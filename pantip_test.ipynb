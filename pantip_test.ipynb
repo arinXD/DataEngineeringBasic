{
 "cells": [
  {
   "cell_type": "code",
   "execution_count": 9,
   "metadata": {},
   "outputs": [],
   "source": [
    "import requests\n",
    "from bs4 import BeautifulSoup\n"
   ]
  },
  {
   "cell_type": "code",
   "execution_count": 17,
   "metadata": {},
   "outputs": [
    {
     "name": "stdout",
     "output_type": "stream",
     "text": [
      "กระทู้ล่าสุด\n",
      "==================================================\n",
      "https://pantip.com/topic/41826096\tBlue essence มีได้มาสุดเท่าไหรหรอครับ?(League of Legends)\n",
      "https://pantip.com/topic/41821684\tLOL ภารกิจต้อนรับผู้เล่นใหม่รับแล้วไม่ได้ของ\n",
      "https://pantip.com/topic/41820866\tหาเพื่อนเล่น LOL PC ใน Riot ครับ ขอคนไม่หัวร้อนครับ ชิวๆ ไม่เล่นแร้งค์ครับ ทัก Inbox มาได้เลยครับ\n",
      "https://pantip.com/topic/41809634\tหาเพื่อนเล่น League of Legends\n",
      "https://pantip.com/topic/41807334\tอยากทราบวิธีลบบัญชีLOLในเซิฟอื่นครับ\n",
      "https://pantip.com/topic/41773463\tvalorant กับ LOL อะไรกินสเปคมากกว่ากันคะ\n",
      "https://pantip.com/topic/41731253\tVeigar ใน league of legends ทุกคนคิดยังไงกับตัวนี้ครับ\n",
      "https://pantip.com/topic/41717604\tแนวทางการเล่น ตัวละคร Support อย่าง Senna ใน LOL WILD RIFT เป็นยังไง ไปดูกัน\n",
      "https://pantip.com/topic/41700103\tแมตช์TIที่LiquidเจอTA แมตช์World DRXเจอEDG คนที่เล่นสองเกมส์นี้ทึ่งไหม ใครที่ไม่ได้เล่นdotaกับlolแต่ชอบดูtiกับworldบ้าง\n",
      "https://pantip.com/topic/41685084\tYour username or password may be incorrect, or you might need to update to a Riot Account if you haven't played in a few\n",
      "https://pantip.com/topic/41682115\tเกี่ยวกับเกมฟุตบอล dream league soccer 2022 dls2022\n",
      "https://pantip.com/topic/41671325\tTHE BOYZ (더보이즈) - 'Last Man Standing' MV | Produced by Raiden x T1 team\n",
      "https://pantip.com/topic/41670027\tเล่นเกมในlolแล้วโดนด่า ว่าไม่มีสมอง\n",
      "https://pantip.com/topic/41667824\tTHE BOYZ (더보이즈) - ‘Last Man Standing’ Teaser | Produced by Raiden x T1 team\n",
      "https://pantip.com/topic/41665764\tTHE BOYZ จะร้องเพลงให้ทีม T1 ในการแข่ง 2022 League of Legendsโดยใช้ชื่อเพลง ‘Last Man Standing’ โปรดิวซ์โดย Raiden\n",
      "https://pantip.com/topic/41649895\tเข้าเกมส์lol wild rift ไม่ได้ครับ ช่วยด้วย\n",
      "https://pantip.com/topic/41640131\tปรับ Hz จอเป็น 300 Hz แล้วแต่เกมยังไม่ลื่น\n",
      "https://pantip.com/topic/41617934\tคอมไม่มีการ์ดจอเล่นเกม LOL ได้ไหม สเปกแบบนี้\n",
      "https://pantip.com/topic/41590654\tสาวกเกม League of Legends (LoL) เข้ามาช่วยตอบหน่อยครับ\n",
      "https://pantip.com/topic/41487112\tlolมันเป็นไรครับ\n",
      "https://pantip.com/topic/41485711\tHuawei​ MatePad​11เล่นlol wrไม่ได้หรอคะ?\n",
      "https://pantip.com/topic/41461338\tทำไม League of Legends rank flex หาห้องนานจังครับ\n",
      "https://pantip.com/topic/41453182\tหาเพื่อน เล่น League of Legends (LOL) Pc ค่ะ\n",
      "https://pantip.com/topic/41437426\tหาเพื่อนเล่น lol ครับ\n",
      "https://pantip.com/topic/41406267\tถ้าจะฝึกเล่นป่า LOL ควรเริ่มจากไหนหรอคะ\n",
      "https://pantip.com/topic/41374435\tถ้าจะเล่น LOL (League of Legends) ในตอนที่เกมมันเปิดมาหลายปีแล้วจะดีหรือปล่าวครับ กลัวมี smurfเยอะ\n",
      "https://pantip.com/topic/41371886\tผมอยากเล่น League of Legends มากเลยครับแต่เมาส์มันอยู่ๆก็วาร์ปเอง แต่เกมอื่นไม่เป็นอะไรเลยช่วยหน่อยครับขอบคุณครับ\n",
      "https://pantip.com/topic/41366478\tคิดว่าlolจะมีผู้เล่นใหม่เพิ่มมั้ย อนาคตเรตติ้งlol\n",
      "https://pantip.com/topic/41333110\tซัพพอร์ต LOL ควรช่วยใคร AD JG\n",
      "https://pantip.com/topic/41317422\tไม่ใช่แฟนเกม​ LOL ดู​ arcane​ได้มั้ยครับ?\n",
      "https://pantip.com/topic/41279996\tสอนหาตัวละหน่อยตัวละผมน้อย\n",
      "https://pantip.com/topic/41269240\tทำไมrovปิงหนักกว่าเกมอื่นครับ?\n",
      "https://pantip.com/topic/41256173\tโน๊ตบุ๊กเล่นเกมปิงตลอดแก้ยังไงดี\n",
      "https://pantip.com/topic/41209726\tLeague of Legends โหทมด Tft เล่นไม่ได้\n",
      "https://pantip.com/topic/41186514\tหาตัวแก้ทาง kayle ให้หน่อยครับ lol\n",
      "https://pantip.com/topic/41186309\tซีรีย์ ARCANE: LEAGUE OF LEGENDS ทำไมในความคิดผมVIดูกากจังครับ+คุยนอกเรื่องเกี่ยวกับซีรีย์ครับ\n",
      "https://pantip.com/topic/41182917\tLOL PC : เล่นLucianยังไงให้ได้Sครับ\n",
      "https://pantip.com/topic/41151791\tมีไครคิดเหมือนผมบ้างว่สเกมแนว auto chess คือเกมวัดดวง\n",
      "https://pantip.com/topic/41132172\t(สปอย อนิเมะ Arcane จาก League of Legends) ใครเป็นคนฆ่าพี่ชายของเมล\n",
      "https://pantip.com/topic/41128656\tเปิดเกม LOL แล้วจอฟ้าแก้ยังไงครับ\n",
      "https://pantip.com/topic/41124912\t(ซีรีย์ ARCANE) ผมมีข้อสงสัยเกี่ยวกับเมือง piltover ในซีรีย์ ARCANE (League of Legends)\n",
      "https://pantip.com/topic/41123441\t(ซีรีย์ ARCANE) คิดว่า ARCANE (LOL) ซีซั่น2 ในอนาคตมันจะมีเหตุการณ์อะไรเกิดขึ้นบ้าง\n",
      "https://pantip.com/topic/41122017\tทำไมเกมLoLในไทยคนเล่นน้อยจังเลยคับ\n",
      "https://pantip.com/topic/41117214\t(มีสปอย Arcane Ss.1) เราอยากทราบว่าหลังจากทุกอย่างแล้วพี่วายน้องจิงซ์เป็นศัตรูกันไปเลยหรอ?\n",
      "https://pantip.com/topic/41116383\tจะเกิดอะไรขึ้นถ้าอนิเมะ ARCANE LEAGUE OF LEGENDS ที่ฉายทางช่อง Netflix ถูกทำเป็นอนิเมะ ญี่ปุ่น คิดว่ามันจะออกมาอย่างไร\n",
      "https://pantip.com/topic/41111735\t(สปอย อนิเมะ Arcane จาก League of Legends) ผมมีข้อสงสัยเกี่ยวกับเรื่องราวในอนิเมะ Arcane ครับ\n",
      "https://pantip.com/topic/41092306\tซีรีย์ ARCANE: LEAGUE OF LEGENDS ดีกว่าที่คิดเอาไวมาก\n",
      "https://pantip.com/topic/41081498\tของสะสม League of Legends แท้ในไทย หาซื้อได้จากไหนบ้างครับ\n",
      "https://pantip.com/topic/41070645\tLOL เข้าเกมแล้วหมุนโหลดไม่ไปไหน\n",
      "https://pantip.com/topic/41057515\tเล่น LOL เปิดหน้ารูนแล้วคอมค้าง + ช้ามากๆ CPU วิ่ง 100\n"
     ]
    }
   ],
   "source": [
    "url = 'https://pantip.com/tag/League_of_Legends_(%E0%B9%80%E0%B8%81%E0%B8%A1)'\n",
    "r = requests.get(url)\n",
    "html_doc = r.text\n",
    "soup = BeautifulSoup(html_doc, features='html.parser')\n",
    "\n",
    "print(\"กระทู้ล่าสุด\")\n",
    "print(\"=\"*50)\n",
    "lol_pantip = []\n",
    "pantip_pick = soup.find(\"div\",{\"id\":\"pt-topic-left\"})\n",
    "topic_list = pantip_pick.find_all(\"a\",{\"class\":{\"gtm-latest-topic gtm-topic-layout-compact gtm-topic-type-filter-all\"}})\n",
    "for topic in topic_list:\n",
    "  link = topic.get('href')\n",
    "  title = topic.text\n",
    "  if(\"/topic/\" in link and len(title)>0):\n",
    "    lol_pantip.append(title)\n",
    "    print(\"{}\\t{}\".format(link,title))"
   ]
  }
 ],
 "metadata": {
  "kernelspec": {
   "display_name": "Python 3",
   "language": "python",
   "name": "python3"
  },
  "language_info": {
   "codemirror_mode": {
    "name": "ipython",
    "version": 3
   },
   "file_extension": ".py",
   "mimetype": "text/x-python",
   "name": "python",
   "nbconvert_exporter": "python",
   "pygments_lexer": "ipython3",
   "version": "3.10.5"
  },
  "orig_nbformat": 4,
  "vscode": {
   "interpreter": {
    "hash": "a667031eda11f8cb8d8b90d3cafe5949bd5fcef23c119e01f01589e7b49d3904"
   }
  }
 },
 "nbformat": 4,
 "nbformat_minor": 2
}
